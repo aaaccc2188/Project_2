{
 "cells": [
  {
   "cell_type": "markdown",
   "metadata": {},
   "source": [
    "## Import Libraries"
   ]
  },
  {
   "cell_type": "code",
   "execution_count": 25,
   "metadata": {},
   "outputs": [],
   "source": [
    "import os\n",
    "import pandas as pd\n",
    "from datetime import datetime, timedelta\n",
    "from pathlib import Path"
   ]
  },
  {
   "cell_type": "code",
   "execution_count": 26,
   "metadata": {},
   "outputs": [],
   "source": [
    "# Import News API and Natural Language Toolkit\n",
    "from newsapi.newsapi_client import NewsApiClient\n",
    "from nltk.sentiment.vader import SentimentIntensityAnalyzer"
   ]
  },
  {
   "cell_type": "markdown",
   "metadata": {},
   "source": [
    "## Load APIs"
   ]
  },
  {
   "cell_type": "code",
   "execution_count": 27,
   "metadata": {},
   "outputs": [
    {
     "data": {
      "text/plain": [
       "True"
      ]
     },
     "execution_count": 27,
     "metadata": {},
     "output_type": "execute_result"
    }
   ],
   "source": [
    "from dotenv import load_dotenv\n",
    "load_dotenv()"
   ]
  },
  {
   "cell_type": "code",
   "execution_count": 28,
   "metadata": {},
   "outputs": [],
   "source": [
    "newsapi = NewsApiClient(api_key=os.environ[\"news_api\"])"
   ]
  },
  {
   "cell_type": "markdown",
   "metadata": {},
   "source": [
    "## Create Headline and Sentiment Analyzer Functions"
   ]
  },
  {
   "cell_type": "code",
   "execution_count": 29,
   "metadata": {},
   "outputs": [],
   "source": [
    "# Set current date and the date from one month ago using the ISO format\n",
    "current_date = pd.Timestamp(\"2021-01-12\", tz=\"America/New_York\").isoformat()\n",
    "past_date = pd.Timestamp(\"2020-12-12\", tz=\"America/New_York\").isoformat()\n",
    "\n",
    "# Use newsapi client to get most relevant 20 headlines per day in the past month\n",
    "def get_headlines(keyword):\n",
    "    all_headlines = []\n",
    "    all_dates = []    \n",
    "    date = datetime.strptime(current_date[:10], \"%Y-%m-%d\")\n",
    "    end_date = datetime.strptime(past_date[:10], \"%Y-%m-%d\")\n",
    "    print(f\"Fetching news about '{keyword}'\")\n",
    "    print(\"*\" * 30)\n",
    "    while date > end_date:\n",
    "        print(f\"retrieving news from: {date}\")\n",
    "        try:\n",
    "            articles = newsapi.get_everything(\n",
    "                q=keyword,\n",
    "                from_param=str(date),\n",
    "                to=str(date),\n",
    "                language=\"en\",\n",
    "                sort_by=\"relevancy\",\n",
    "                page=1,\n",
    "            )\n",
    "            headlines = []\n",
    "            for i in range(0, len(articles[\"articles\"])):\n",
    "                headlines.append(articles[\"articles\"][i][\"title\"])\n",
    "            all_headlines.append(headlines)\n",
    "            all_dates.append(date)\n",
    "            date = date - timedelta(days=1)\n",
    "        except:\n",
    "            print(\"Done\")\n",
    "            break\n",
    "    return all_headlines, all_dates"
   ]
  },
  {
   "cell_type": "code",
   "execution_count": 30,
   "metadata": {},
   "outputs": [],
   "source": [
    "# Instantiate Sentiment Analyzer\n",
    "Analyzer = SentimentIntensityAnalyzer()"
   ]
  },
  {
   "cell_type": "code",
   "execution_count": 31,
   "metadata": {},
   "outputs": [],
   "source": [
    "# Create function that computes average compound sentiment of headlines for each day\n",
    "def headline_sentiment_summarizer_avg(headlines):\n",
    "    sentiment = []\n",
    "    for day in headlines:\n",
    "        day_score = []\n",
    "        for h in day:\n",
    "            if h == None:\n",
    "                continue\n",
    "            else:\n",
    "                day_score.append(Analyzer.polarity_scores(h)[\"compound\"])\n",
    "        sentiment.append(sum(day_score) / len(day_score))\n",
    "    return sentiment"
   ]
  },
  {
   "cell_type": "markdown",
   "metadata": {},
   "source": [
    "## Amazon"
   ]
  },
  {
   "cell_type": "code",
   "execution_count": 18,
   "metadata": {},
   "outputs": [
    {
     "name": "stdout",
     "output_type": "stream",
     "text": [
      "Fetching news about 'amazon'\n",
      "******************************\n",
      "retrieving news from: 2021-01-12 00:00:00\n",
      "retrieving news from: 2021-01-11 00:00:00\n",
      "retrieving news from: 2021-01-10 00:00:00\n",
      "retrieving news from: 2021-01-09 00:00:00\n",
      "retrieving news from: 2021-01-08 00:00:00\n",
      "retrieving news from: 2021-01-07 00:00:00\n",
      "retrieving news from: 2021-01-06 00:00:00\n",
      "retrieving news from: 2021-01-05 00:00:00\n",
      "retrieving news from: 2021-01-04 00:00:00\n",
      "retrieving news from: 2021-01-03 00:00:00\n",
      "retrieving news from: 2021-01-02 00:00:00\n",
      "retrieving news from: 2021-01-01 00:00:00\n",
      "retrieving news from: 2020-12-31 00:00:00\n",
      "retrieving news from: 2020-12-30 00:00:00\n",
      "retrieving news from: 2020-12-29 00:00:00\n",
      "retrieving news from: 2020-12-28 00:00:00\n",
      "retrieving news from: 2020-12-27 00:00:00\n",
      "retrieving news from: 2020-12-26 00:00:00\n",
      "retrieving news from: 2020-12-25 00:00:00\n",
      "retrieving news from: 2020-12-24 00:00:00\n",
      "retrieving news from: 2020-12-23 00:00:00\n",
      "retrieving news from: 2020-12-22 00:00:00\n",
      "retrieving news from: 2020-12-21 00:00:00\n",
      "retrieving news from: 2020-12-20 00:00:00\n",
      "retrieving news from: 2020-12-19 00:00:00\n",
      "retrieving news from: 2020-12-18 00:00:00\n",
      "retrieving news from: 2020-12-17 00:00:00\n",
      "retrieving news from: 2020-12-16 00:00:00\n",
      "retrieving news from: 2020-12-15 00:00:00\n",
      "retrieving news from: 2020-12-14 00:00:00\n",
      "retrieving news from: 2020-12-13 00:00:00\n",
      "Done\n"
     ]
    }
   ],
   "source": [
    "# Get Amazon\n",
    "amzn_headlines, _ = get_headlines(\"amazon\")"
   ]
  },
  {
   "cell_type": "code",
   "execution_count": 19,
   "metadata": {},
   "outputs": [],
   "source": [
    "amzn_avg = headline_sentiment_summarizer_avg(amzn_headlines)"
   ]
  },
  {
   "cell_type": "code",
   "execution_count": 32,
   "metadata": {},
   "outputs": [
    {
     "data": {
      "text/html": [
       "<div>\n",
       "<style scoped>\n",
       "    .dataframe tbody tr th:only-of-type {\n",
       "        vertical-align: middle;\n",
       "    }\n",
       "\n",
       "    .dataframe tbody tr th {\n",
       "        vertical-align: top;\n",
       "    }\n",
       "\n",
       "    .dataframe thead th {\n",
       "        text-align: right;\n",
       "    }\n",
       "</style>\n",
       "<table border=\"1\" class=\"dataframe\">\n",
       "  <thead>\n",
       "    <tr style=\"text-align: right;\">\n",
       "      <th></th>\n",
       "      <th>Avg_Score</th>\n",
       "    </tr>\n",
       "  </thead>\n",
       "  <tbody>\n",
       "    <tr>\n",
       "      <th>1970-01-01 00:00:00.000000000</th>\n",
       "      <td>0.147265</td>\n",
       "    </tr>\n",
       "    <tr>\n",
       "      <th>1970-01-01 00:00:00.000000001</th>\n",
       "      <td>0.019735</td>\n",
       "    </tr>\n",
       "    <tr>\n",
       "      <th>1970-01-01 00:00:00.000000002</th>\n",
       "      <td>-0.053610</td>\n",
       "    </tr>\n",
       "    <tr>\n",
       "      <th>1970-01-01 00:00:00.000000003</th>\n",
       "      <td>0.227920</td>\n",
       "    </tr>\n",
       "    <tr>\n",
       "      <th>1970-01-01 00:00:00.000000004</th>\n",
       "      <td>0.126790</td>\n",
       "    </tr>\n",
       "  </tbody>\n",
       "</table>\n",
       "</div>"
      ],
      "text/plain": [
       "                               Avg_Score\n",
       "1970-01-01 00:00:00.000000000   0.147265\n",
       "1970-01-01 00:00:00.000000001   0.019735\n",
       "1970-01-01 00:00:00.000000002  -0.053610\n",
       "1970-01-01 00:00:00.000000003   0.227920\n",
       "1970-01-01 00:00:00.000000004   0.126790"
      ]
     },
     "execution_count": 32,
     "metadata": {},
     "output_type": "execute_result"
    }
   ],
   "source": [
    "amzn_sentiment_df = pd.DataFrame({ \"Avg_Score\" : amzn_avg })\n",
    "amzn_sentiment_df.index = pd.to_datetime(amzn_sentiment_df.index)\n",
    "amzn_sentiment_df.head()"
   ]
  },
  {
   "cell_type": "code",
   "execution_count": 41,
   "metadata": {},
   "outputs": [],
   "source": [
    "amzn_sentiment_df.to_csv(Path(\"../Sentiment_data/amzn_sentiment_data.csv\"))"
   ]
  },
  {
   "cell_type": "markdown",
   "metadata": {},
   "source": [
    "## Apple"
   ]
  },
  {
   "cell_type": "code",
   "execution_count": 37,
   "metadata": {},
   "outputs": [
    {
     "name": "stdout",
     "output_type": "stream",
     "text": [
      "Fetching news about 'apple'\n",
      "******************************\n",
      "retrieving news from: 2021-01-12 00:00:00\n",
      "retrieving news from: 2021-01-11 00:00:00\n",
      "retrieving news from: 2021-01-10 00:00:00\n",
      "retrieving news from: 2021-01-09 00:00:00\n",
      "retrieving news from: 2021-01-08 00:00:00\n",
      "retrieving news from: 2021-01-07 00:00:00\n",
      "retrieving news from: 2021-01-06 00:00:00\n",
      "retrieving news from: 2021-01-05 00:00:00\n",
      "retrieving news from: 2021-01-04 00:00:00\n",
      "retrieving news from: 2021-01-03 00:00:00\n",
      "retrieving news from: 2021-01-02 00:00:00\n",
      "retrieving news from: 2021-01-01 00:00:00\n",
      "retrieving news from: 2020-12-31 00:00:00\n",
      "retrieving news from: 2020-12-30 00:00:00\n",
      "retrieving news from: 2020-12-29 00:00:00\n",
      "retrieving news from: 2020-12-28 00:00:00\n",
      "retrieving news from: 2020-12-27 00:00:00\n",
      "retrieving news from: 2020-12-26 00:00:00\n",
      "retrieving news from: 2020-12-25 00:00:00\n",
      "retrieving news from: 2020-12-24 00:00:00\n",
      "retrieving news from: 2020-12-23 00:00:00\n",
      "retrieving news from: 2020-12-22 00:00:00\n",
      "retrieving news from: 2020-12-21 00:00:00\n",
      "retrieving news from: 2020-12-20 00:00:00\n",
      "retrieving news from: 2020-12-19 00:00:00\n",
      "retrieving news from: 2020-12-18 00:00:00\n",
      "retrieving news from: 2020-12-17 00:00:00\n",
      "retrieving news from: 2020-12-16 00:00:00\n",
      "retrieving news from: 2020-12-15 00:00:00\n",
      "retrieving news from: 2020-12-14 00:00:00\n",
      "retrieving news from: 2020-12-13 00:00:00\n",
      "Done\n"
     ]
    }
   ],
   "source": [
    "# Get Apple\n",
    "aapl_headlines, dates = get_headlines(\"apple\")"
   ]
  },
  {
   "cell_type": "code",
   "execution_count": 38,
   "metadata": {},
   "outputs": [],
   "source": [
    "aapl_avg = headline_sentiment_summarizer_avg(aapl_headlines)"
   ]
  },
  {
   "cell_type": "code",
   "execution_count": 39,
   "metadata": {},
   "outputs": [
    {
     "data": {
      "text/html": [
       "<div>\n",
       "<style scoped>\n",
       "    .dataframe tbody tr th:only-of-type {\n",
       "        vertical-align: middle;\n",
       "    }\n",
       "\n",
       "    .dataframe tbody tr th {\n",
       "        vertical-align: top;\n",
       "    }\n",
       "\n",
       "    .dataframe thead th {\n",
       "        text-align: right;\n",
       "    }\n",
       "</style>\n",
       "<table border=\"1\" class=\"dataframe\">\n",
       "  <thead>\n",
       "    <tr style=\"text-align: right;\">\n",
       "      <th></th>\n",
       "      <th>Avg_Score</th>\n",
       "    </tr>\n",
       "  </thead>\n",
       "  <tbody>\n",
       "    <tr>\n",
       "      <th>1970-01-01 00:00:00.000000000</th>\n",
       "      <td>0.052270</td>\n",
       "    </tr>\n",
       "    <tr>\n",
       "      <th>1970-01-01 00:00:00.000000001</th>\n",
       "      <td>0.124295</td>\n",
       "    </tr>\n",
       "    <tr>\n",
       "      <th>1970-01-01 00:00:00.000000002</th>\n",
       "      <td>0.014280</td>\n",
       "    </tr>\n",
       "    <tr>\n",
       "      <th>1970-01-01 00:00:00.000000003</th>\n",
       "      <td>-0.070925</td>\n",
       "    </tr>\n",
       "    <tr>\n",
       "      <th>1970-01-01 00:00:00.000000004</th>\n",
       "      <td>0.021120</td>\n",
       "    </tr>\n",
       "  </tbody>\n",
       "</table>\n",
       "</div>"
      ],
      "text/plain": [
       "                               Avg_Score\n",
       "1970-01-01 00:00:00.000000000   0.052270\n",
       "1970-01-01 00:00:00.000000001   0.124295\n",
       "1970-01-01 00:00:00.000000002   0.014280\n",
       "1970-01-01 00:00:00.000000003  -0.070925\n",
       "1970-01-01 00:00:00.000000004   0.021120"
      ]
     },
     "execution_count": 39,
     "metadata": {},
     "output_type": "execute_result"
    }
   ],
   "source": [
    "aapl_sentiment_df = pd.DataFrame({ \"Avg_Score\" : aapl_avg })\n",
    "aapl_sentiment_df.index = pd.to_datetime(aapl_sentiment_df.index)\n",
    "aapl_sentiment_df.head()"
   ]
  },
  {
   "cell_type": "code",
   "execution_count": 42,
   "metadata": {},
   "outputs": [],
   "source": [
    "aapl_sentiment_df.to_csv(\"../Sentiment_data/aapl_sentiment_data.csv\")"
   ]
  },
  {
   "cell_type": "code",
   "execution_count": null,
   "metadata": {},
   "outputs": [],
   "source": []
  }
 ],
 "metadata": {
  "kernelspec": {
   "display_name": "Python 3",
   "language": "python",
   "name": "python3"
  },
  "language_info": {
   "codemirror_mode": {
    "name": "ipython",
    "version": 3
   },
   "file_extension": ".py",
   "mimetype": "text/x-python",
   "name": "python",
   "nbconvert_exporter": "python",
   "pygments_lexer": "ipython3",
   "version": "3.7.9"
  }
 },
 "nbformat": 4,
 "nbformat_minor": 4
}
